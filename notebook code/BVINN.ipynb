{
  "cells": [
    {
      "cell_type": "code",
      "execution_count": 200,
      "metadata": {
        "colab": {
          "base_uri": "https://localhost:8080/"
        },
        "id": "ADJ8lgEK3qVD",
        "outputId": "854bc4f1-70a3-4aab-eb19-400d3b4a78b2"
      },
      "outputs": [],
      "source": [
        "import torch\n",
        "import pyro\n",
        "import pyro.distributions as dist\n",
        "import torch.nn as nn\n",
        "import torch.optim as optim\n",
        "from pyro.infer import SVI, Trace_ELBO\n",
        "from pyro.optim import Adam\n",
        "from sklearn.preprocessing import StandardScaler, LabelEncoder\n",
        "from sklearn.model_selection import train_test_split\n",
        "import pandas as pd\n",
        "import numpy as np\n",
        "from torch.distributions import constraints\n"
      ]
    },
    {
      "cell_type": "code",
      "execution_count": 201,
      "metadata": {},
      "outputs": [],
      "source": [
        "def prepare_tensors(X, y, test_size=0.3, random_state=42):\n",
        "    \"\"\"Convert data to PyTorch tensors and perform train-test split.\"\"\"\n",
        "    X_train, X_test, y_train, y_test = train_test_split(\n",
        "        X, y, test_size=test_size, random_state=random_state, stratify=y\n",
        "    )\n",
        "\n",
        "    # Convert to PyTorch tensors\n",
        "    X_train_tensor = torch.tensor(X_train, dtype=torch.float32)\n",
        "    X_test_tensor = torch.tensor(X_test, dtype=torch.float32)\n",
        "    y_train_tensor = torch.tensor(y_train, dtype=torch.float32)  # Keep float for BCE loss\n",
        "    y_test_tensor = torch.tensor(y_test, dtype=torch.float32)\n",
        "\n",
        "    input_dim = X_train.shape[1]  # Get number of features\n",
        "\n",
        "    return X_train_tensor, X_test_tensor, y_train_tensor, y_test_tensor, input_dim\n"
      ]
    },
    {
      "cell_type": "code",
      "execution_count": 202,
      "metadata": {
        "colab": {
          "base_uri": "https://localhost:8080/",
          "height": 109
        },
        "id": "0uXruBe_4Fd6",
        "outputId": "887680cb-df2c-4eb8-aaff-8841b10d2673"
      },
      "outputs": [],
      "source": [
        "def load_and_preprocess_data(file_path, target_col, test_size=0.3, random_state=42):\n",
        "    df = pd.read_csv(file_path)\n",
        "\n",
        "    # Standard preprocessing (modify if needed for different datasets)\n",
        "    if target_col == \"diagnosis\":\n",
        "        df[target_col] = df[target_col].map({\"M\": 1, \"B\": 0}).astype(int) # Convert to 1/0\n",
        "\n",
        "    feature_cols = [col for col in df.columns if col != target_col]\n",
        "    X = df[feature_cols].values\n",
        "    y = df[target_col].values\n",
        "\n",
        "    # Standardize features\n",
        "    scaler = StandardScaler()\n",
        "    X = scaler.fit_transform(X)\n",
        "\n",
        "    # Debugging output\n",
        "    print(f\"Input dimension calculated: {X.shape[1]}\")\n",
        "\n",
        "    return prepare_tensors(X, y, test_size, random_state)\n"
      ]
    },
    {
      "cell_type": "code",
      "execution_count": 203,
      "metadata": {
        "colab": {
          "base_uri": "https://localhost:8080/",
          "height": 365
        },
        "id": "XoN39tAW4HDc",
        "outputId": "f2ad428d-b137-479b-bd5d-8e8ea3106c67"
      },
      "outputs": [],
      "source": [
        "class BoostedVI_BayesianFNN(nn.Module):\n",
        "    def __init__(self, input_dim, hidden_dim=16, output_dim=1, num_mixtures=3):\n",
        "        super().__init__()\n",
        "        self.input_dim = input_dim\n",
        "        self.hidden_dim = hidden_dim\n",
        "        self.output_dim = output_dim\n",
        "        self.num_mixtures = num_mixtures\n",
        "\n",
        "    def model(self, X, y=None):\n",
        "        batch_size = X.shape[0]  \n",
        "        print(\"Expected batch size:\", batch_size)  \n",
        "\n",
        "        with pyro.plate(\"batch\", batch_size, dim=-1):  # 🔹 Ensure batch plate\n",
        "\n",
        "            with pyro.plate(\"layers_w1\", self.input_dim * self.hidden_dim, dim=-2):\n",
        "                mix_weights = pyro.sample(\"mix_weights\", dist.Dirichlet(torch.ones(self.num_mixtures)))\n",
        "\n",
        "                means_w1 = pyro.sample(\"means_w1\", dist.Normal(\n",
        "                    torch.zeros(self.input_dim * self.hidden_dim, self.num_mixtures),\n",
        "                    torch.ones(self.input_dim * self.hidden_dim, self.num_mixtures)\n",
        "                ).to_event(1))\n",
        "\n",
        "                scales_w1 = pyro.sample(\"scales_w1\", dist.LogNormal(\n",
        "                    torch.zeros(self.input_dim * self.hidden_dim, self.num_mixtures),\n",
        "                    torch.ones(self.input_dim * self.hidden_dim, self.num_mixtures)\n",
        "                ).to_event(1))\n",
        "\n",
        "            # 🔹 Fix dimension mismatch\n",
        "            if mix_weights.dim() > 2:\n",
        "                mix_weights = mix_weights.squeeze(1)  \n",
        "            mix_weights = mix_weights.expand(self.input_dim * self.hidden_dim, self.num_mixtures)\n",
        "\n",
        "            w1 = pyro.sample(\"w1\", dist.MixtureSameFamily(\n",
        "                dist.Categorical(mix_weights),\n",
        "                dist.Normal(means_w1, scales_w1)\n",
        "            )).reshape(self.input_dim, self.hidden_dim)\n",
        "\n",
        "            print(f\"Shape of w1: {w1.shape}\")\n",
        "\n",
        "            with pyro.plate(\"layers_b1\", self.hidden_dim, dim=-1):\n",
        "                b1 = pyro.sample(\"b1\", dist.Normal(torch.zeros(self.hidden_dim), torch.ones(self.hidden_dim)))\n",
        "\n",
        "            hidden = torch.tanh(torch.matmul(X, w1) + b1)\n",
        "\n",
        "            with pyro.plate(\"layers_w2\", self.hidden_dim * self.output_dim, dim=-2):\n",
        "                mix_weights_w2 = pyro.sample(\"mix_weights_w2\", dist.Dirichlet(torch.ones(self.num_mixtures)))\n",
        "\n",
        "                means_w2 = pyro.sample(\"means_w2\", dist.Normal(\n",
        "                    torch.zeros(self.hidden_dim * self.output_dim, self.num_mixtures),\n",
        "                    torch.ones(self.hidden_dim * self.output_dim, self.num_mixtures)\n",
        "                ).to_event(1))\n",
        "\n",
        "                scales_w2 = pyro.sample(\"scales_w2\", dist.LogNormal(\n",
        "                    torch.zeros(self.hidden_dim * self.output_dim, self.num_mixtures),\n",
        "                    torch.ones(self.hidden_dim * self.output_dim, self.num_mixtures)\n",
        "                ).to_event(1))\n",
        "\n",
        "            # 🔹 Fix dimension mismatch for w2 weights\n",
        "            if mix_weights_w2.dim() > 2:\n",
        "                mix_weights_w2 = mix_weights_w2.squeeze(1)  \n",
        "            mix_weights_w2 = mix_weights_w2.expand(self.hidden_dim * self.output_dim, self.num_mixtures)\n",
        "\n",
        "            w2 = pyro.sample(\"w2\", dist.MixtureSameFamily(\n",
        "                dist.Categorical(mix_weights_w2),\n",
        "                dist.Normal(means_w2, scales_w2)\n",
        "            )).reshape(self.hidden_dim, self.output_dim)\n",
        "\n",
        "            with pyro.plate(\"layers_b2\", self.output_dim, dim=-1):\n",
        "                b2 = pyro.sample(\"b2\", dist.Normal(torch.zeros(self.output_dim), torch.ones(self.output_dim)))\n",
        "\n",
        "            logits = torch.matmul(hidden, w2) + b2\n",
        "            probs = torch.sigmoid(logits).squeeze(-1)\n",
        "\n",
        "            if y is not None:\n",
        "                pyro.sample(\"obs\", dist.Bernoulli(probs), obs=y)\n",
        "\n",
        "            return probs\n",
        "\n",
        "\n",
        "\n",
        "    def guide(self, X, y=None):\n",
        "        batch_size = X.shape[0]  # Fix: Ensure guide uses the same batch size as model\n",
        "\n",
        "        with pyro.plate(\"batch\", batch_size, dim=-1):  # Ensure batch size is consistent\n",
        "\n",
        "            mix_weights_q = pyro.param(\"mix_weights_q\", torch.ones(self.num_mixtures) / self.num_mixtures, constraint=constraints.simplex)\n",
        "            pyro.sample(\"mix_weights\", dist.Dirichlet(mix_weights_q))\n",
        "\n",
        "            means_w1_q = pyro.param(\"means_w1_q\", torch.zeros(self.input_dim * self.hidden_dim, self.num_mixtures))\n",
        "            scales_w1_q = pyro.param(\"scales_w1_q\", torch.ones(self.input_dim * self.hidden_dim, self.num_mixtures), constraint=constraints.positive)\n",
        "\n",
        "            with pyro.plate(\"layers_w1\", self.input_dim * self.hidden_dim, dim=-2):  # 🔹 Fix mismatch\n",
        "                pyro.sample(\"means_w1\", dist.Normal(means_w1_q, scales_w1_q).to_event(1))\n",
        "\n",
        "            b1_q = pyro.param(\"b1_q\", torch.zeros(self.hidden_dim))\n",
        "            pyro.sample(\"b1\", dist.Normal(b1_q, 0.1 * torch.ones_like(b1_q)))\n",
        "\n",
        "            mix_weights_w2_q = pyro.param(\"mix_weights_w2_q\", torch.ones(self.num_mixtures) / self.num_mixtures, constraint=constraints.simplex)\n",
        "            pyro.sample(\"mix_weights_w2\", dist.Dirichlet(mix_weights_w2_q))\n",
        "\n",
        "            means_w2_q = pyro.param(\"means_w2_q\", torch.zeros(self.hidden_dim * self.output_dim, self.num_mixtures))\n",
        "            scales_w2_q = pyro.param(\"scales_w2_q\", torch.ones(self.hidden_dim * self.output_dim, self.num_mixtures), constraint=constraints.positive)\n",
        "\n",
        "            with pyro.plate(\"layers_w2\", self.hidden_dim * self.output_dim, dim=-2):\n",
        "                pyro.sample(\"means_w2\", dist.Normal(means_w2_q, scales_w2_q).to_event(1))\n",
        "\n",
        "            b2_q = pyro.param(\"b2_q\", torch.zeros(self.output_dim))\n",
        "            pyro.sample(\"b2\", dist.Normal(b2_q, 0.1 * torch.ones_like(b2_q)))\n",
        "\n"
      ]
    },
    {
      "cell_type": "code",
      "execution_count": 204,
      "metadata": {
        "colab": {
          "base_uri": "https://localhost:8080/"
        },
        "id": "7BRDWbc34uAg",
        "outputId": "e98bd89f-aa71-4337-e703-fb9a7b827a16"
      },
      "outputs": [],
      "source": [
        "# Train BVINN Model\n",
        "def train_model(X_train, y_train, input_dim, num_epochs=1000):\n",
        "    pyro.clear_param_store()\n",
        "    model = BoostedVI_BayesianFNN(input_dim)\n",
        "    optimizer = pyro.optim.Adam({\"lr\": 1e-3})  # Lower from 1e-2 to 1e-3\n",
        "    svi = SVI(model.model, model.guide, optimizer, loss=Trace_ELBO())\n",
        "    \n",
        "    for epoch in range(num_epochs):\n",
        "        loss = svi.step(X_train, y_train)\n",
        "        if epoch % 100 == 0:\n",
        "            print(f\"Epoch {epoch}: Loss = {loss}\")\n",
        "    \n",
        "    return model"
      ]
    },
    {
      "cell_type": "code",
      "execution_count": 205,
      "metadata": {
        "colab": {
          "base_uri": "https://localhost:8080/"
        },
        "id": "uvKPvfIS4xDv",
        "outputId": "3c69609a-693b-4f04-aaa6-f5ebf2d13d87"
      },
      "outputs": [],
      "source": [
        "def evaluate_model(model, X_test, y_test):\n",
        "    batch_size = X_test.shape[0]  # Ensure batch size matches X_test size\n",
        "    print(f\"X_test shape: {X_test.shape}\")\n",
        "    print(f\"Expected batch size: {batch_size}\")\n",
        "\n",
        "    # ✅ Fix: Ensure consistent batch size\n",
        "    predictive = pyro.infer.Predictive(model.model, guide=model.guide, num_samples=1000)\n",
        "    \n",
        "    # ✅ Fix: Slice X_test properly\n",
        "    samples = predictive(X_test[:batch_size])\n",
        "\n",
        "    pred_probs = samples[\"obs\"].mean(axis=0).detach().numpy()\n",
        "    predictions = (pred_probs > 0.5).astype(int)\n",
        "\n",
        "    accuracy = (predictions == y_test.numpy()).mean()\n",
        "    print(f\"Accuracy: {accuracy:.4f}\")\n",
        "\n"
      ]
    },
    {
      "cell_type": "code",
      "execution_count": 206,
      "metadata": {},
      "outputs": [],
      "source": [
        "def main():\n",
        "    file_path = \"Data Sets/cancer.csv\"  # Change for different datasets\n",
        "    target_col = \"diagnosis\"  # Change for different datasets\n",
        "    X_train, X_test, y_train, y_test, input_dim = load_and_preprocess_data(file_path, target_col)\n",
        "    \n",
        "    model = train_model(X_train, y_train, input_dim)\n",
        "    evaluate_model(model, X_test, y_test)"
      ]
    },
    {
      "cell_type": "code",
      "execution_count": 207,
      "metadata": {},
      "outputs": [
        {
          "name": "stdout",
          "output_type": "stream",
          "text": [
            "Input dimension calculated: 31\n"
          ]
        },
        {
          "ename": "ValueError",
          "evalue": "Shape mismatch inside plate('batch') at site means_w1 dim -1, 398 vs 496\n   Trace Shapes:        \n    Param Sites:        \n   mix_weights_q     3  \n      means_w1_q 496 3  \n     scales_w1_q 496 3  \n   Sample Sites:        \n      batch dist     |  \n           value 398 |  \nmix_weights dist 398 | 3\n           value 398 | 3\n  layers_w1 dist     |  \n           value 496 |  ",
          "output_type": "error",
          "traceback": [
            "\u001b[31m---------------------------------------------------------------------------\u001b[39m",
            "\u001b[31mValueError\u001b[39m                                Traceback (most recent call last)",
            "\u001b[36mFile \u001b[39m\u001b[32m~/.local/lib/python3.11/site-packages/pyro/poutine/trace_messenger.py:191\u001b[39m, in \u001b[36mTraceHandler.__call__\u001b[39m\u001b[34m(self, *args, **kwargs)\u001b[39m\n\u001b[32m    190\u001b[39m \u001b[38;5;28;01mtry\u001b[39;00m:\n\u001b[32m--> \u001b[39m\u001b[32m191\u001b[39m     ret = \u001b[38;5;28;43mself\u001b[39;49m\u001b[43m.\u001b[49m\u001b[43mfn\u001b[49m\u001b[43m(\u001b[49m\u001b[43m*\u001b[49m\u001b[43margs\u001b[49m\u001b[43m,\u001b[49m\u001b[43m \u001b[49m\u001b[43m*\u001b[49m\u001b[43m*\u001b[49m\u001b[43mkwargs\u001b[49m\u001b[43m)\u001b[49m\n\u001b[32m    192\u001b[39m \u001b[38;5;28;01mexcept\u001b[39;00m (\u001b[38;5;167;01mValueError\u001b[39;00m, \u001b[38;5;167;01mRuntimeError\u001b[39;00m) \u001b[38;5;28;01mas\u001b[39;00m e:\n",
            "\u001b[36mCell\u001b[39m\u001b[36m \u001b[39m\u001b[32mIn[203]\u001b[39m\u001b[32m, line 93\u001b[39m, in \u001b[36mBoostedVI_BayesianFNN.guide\u001b[39m\u001b[34m(self, X, y)\u001b[39m\n\u001b[32m     92\u001b[39m \u001b[38;5;28;01mwith\u001b[39;00m pyro.plate(\u001b[33m\"\u001b[39m\u001b[33mlayers_w1\u001b[39m\u001b[33m\"\u001b[39m, \u001b[38;5;28mself\u001b[39m.input_dim * \u001b[38;5;28mself\u001b[39m.hidden_dim, dim=-\u001b[32m2\u001b[39m):  \u001b[38;5;66;03m# 🔹 Fix mismatch\u001b[39;00m\n\u001b[32m---> \u001b[39m\u001b[32m93\u001b[39m     \u001b[43mpyro\u001b[49m\u001b[43m.\u001b[49m\u001b[43msample\u001b[49m\u001b[43m(\u001b[49m\u001b[33;43m\"\u001b[39;49m\u001b[33;43mmeans_w1\u001b[39;49m\u001b[33;43m\"\u001b[39;49m\u001b[43m,\u001b[49m\u001b[43m \u001b[49m\u001b[43mdist\u001b[49m\u001b[43m.\u001b[49m\u001b[43mNormal\u001b[49m\u001b[43m(\u001b[49m\u001b[43mmeans_w1_q\u001b[49m\u001b[43m,\u001b[49m\u001b[43m \u001b[49m\u001b[43mscales_w1_q\u001b[49m\u001b[43m)\u001b[49m\u001b[43m.\u001b[49m\u001b[43mto_event\u001b[49m\u001b[43m(\u001b[49m\u001b[32;43m1\u001b[39;49m\u001b[43m)\u001b[49m\u001b[43m)\u001b[49m\n\u001b[32m     95\u001b[39m b1_q = pyro.param(\u001b[33m\"\u001b[39m\u001b[33mb1_q\u001b[39m\u001b[33m\"\u001b[39m, torch.zeros(\u001b[38;5;28mself\u001b[39m.hidden_dim))\n",
            "\u001b[36mFile \u001b[39m\u001b[32m~/.local/lib/python3.11/site-packages/pyro/primitives.py:189\u001b[39m, in \u001b[36msample\u001b[39m\u001b[34m(name, fn, obs, obs_mask, infer, *args, **kwargs)\u001b[39m\n\u001b[32m    188\u001b[39m \u001b[38;5;66;03m# apply the stack and return its return value\u001b[39;00m\n\u001b[32m--> \u001b[39m\u001b[32m189\u001b[39m \u001b[43mapply_stack\u001b[49m\u001b[43m(\u001b[49m\u001b[43mmsg\u001b[49m\u001b[43m)\u001b[49m\n\u001b[32m    190\u001b[39m \u001b[38;5;28;01massert\u001b[39;00m msg[\u001b[33m\"\u001b[39m\u001b[33mvalue\u001b[39m\u001b[33m\"\u001b[39m] \u001b[38;5;129;01mis\u001b[39;00m \u001b[38;5;129;01mnot\u001b[39;00m \u001b[38;5;28;01mNone\u001b[39;00m  \u001b[38;5;66;03m# type narrowing guaranteed by apply_stack\u001b[39;00m\n",
            "\u001b[36mFile \u001b[39m\u001b[32m~/.local/lib/python3.11/site-packages/pyro/poutine/runtime.py:378\u001b[39m, in \u001b[36mapply_stack\u001b[39m\u001b[34m(initial_msg)\u001b[39m\n\u001b[32m    376\u001b[39m pointer = pointer + \u001b[32m1\u001b[39m\n\u001b[32m--> \u001b[39m\u001b[32m378\u001b[39m \u001b[43mframe\u001b[49m\u001b[43m.\u001b[49m\u001b[43m_process_message\u001b[49m\u001b[43m(\u001b[49m\u001b[43mmsg\u001b[49m\u001b[43m)\u001b[49m\n\u001b[32m    380\u001b[39m \u001b[38;5;28;01mif\u001b[39;00m msg[\u001b[33m\"\u001b[39m\u001b[33mstop\u001b[39m\u001b[33m\"\u001b[39m]:\n",
            "\u001b[36mFile \u001b[39m\u001b[32m~/.local/lib/python3.11/site-packages/pyro/poutine/plate_messenger.py:25\u001b[39m, in \u001b[36mPlateMessenger._process_message\u001b[39m\u001b[34m(self, msg)\u001b[39m\n\u001b[32m     24\u001b[39m \u001b[38;5;28msuper\u001b[39m()._process_message(msg)\n\u001b[32m---> \u001b[39m\u001b[32m25\u001b[39m \u001b[43mBroadcastMessenger\u001b[49m\u001b[43m.\u001b[49m\u001b[43m_pyro_sample\u001b[49m\u001b[43m(\u001b[49m\u001b[43mmsg\u001b[49m\u001b[43m)\u001b[49m\n",
            "\u001b[36mFile \u001b[39m\u001b[32m/usr/local/lib/python3.11/contextlib.py:81\u001b[39m, in \u001b[36mContextDecorator.__call__.<locals>.inner\u001b[39m\u001b[34m(*args, **kwds)\u001b[39m\n\u001b[32m     80\u001b[39m \u001b[38;5;28;01mwith\u001b[39;00m \u001b[38;5;28mself\u001b[39m._recreate_cm():\n\u001b[32m---> \u001b[39m\u001b[32m81\u001b[39m     \u001b[38;5;28;01mreturn\u001b[39;00m \u001b[43mfunc\u001b[49m\u001b[43m(\u001b[49m\u001b[43m*\u001b[49m\u001b[43margs\u001b[49m\u001b[43m,\u001b[49m\u001b[43m \u001b[49m\u001b[43m*\u001b[49m\u001b[43m*\u001b[49m\u001b[43mkwds\u001b[49m\u001b[43m)\u001b[49m\n",
            "\u001b[36mFile \u001b[39m\u001b[32m~/.local/lib/python3.11/site-packages/pyro/poutine/broadcast_messenger.py:74\u001b[39m, in \u001b[36mBroadcastMessenger._pyro_sample\u001b[39m\u001b[34m(msg)\u001b[39m\n\u001b[32m     70\u001b[39m \u001b[38;5;28;01mif\u001b[39;00m (\n\u001b[32m     71\u001b[39m     target_batch_shape[f.dim] \u001b[38;5;129;01mis\u001b[39;00m \u001b[38;5;129;01mnot\u001b[39;00m \u001b[38;5;28;01mNone\u001b[39;00m\n\u001b[32m     72\u001b[39m     \u001b[38;5;129;01mand\u001b[39;00m target_batch_shape[f.dim] != f.size\n\u001b[32m     73\u001b[39m ):\n\u001b[32m---> \u001b[39m\u001b[32m74\u001b[39m     \u001b[38;5;28;01mraise\u001b[39;00m \u001b[38;5;167;01mValueError\u001b[39;00m(\n\u001b[32m     75\u001b[39m         \u001b[33m\"\u001b[39m\u001b[33mShape mismatch inside plate(\u001b[39m\u001b[33m'\u001b[39m\u001b[38;5;132;01m{}\u001b[39;00m\u001b[33m'\u001b[39m\u001b[33m) at site \u001b[39m\u001b[38;5;132;01m{}\u001b[39;00m\u001b[33m dim \u001b[39m\u001b[38;5;132;01m{}\u001b[39;00m\u001b[33m, \u001b[39m\u001b[38;5;132;01m{}\u001b[39;00m\u001b[33m vs \u001b[39m\u001b[38;5;132;01m{}\u001b[39;00m\u001b[33m\"\u001b[39m.format(\n\u001b[32m     76\u001b[39m             f.name,\n\u001b[32m     77\u001b[39m             msg[\u001b[33m\"\u001b[39m\u001b[33mname\u001b[39m\u001b[33m\"\u001b[39m],\n\u001b[32m     78\u001b[39m             f.dim,\n\u001b[32m     79\u001b[39m             f.size,\n\u001b[32m     80\u001b[39m             target_batch_shape[f.dim],\n\u001b[32m     81\u001b[39m         )\n\u001b[32m     82\u001b[39m     )\n\u001b[32m     83\u001b[39m target_batch_shape[f.dim] = f.size\n",
            "\u001b[31mValueError\u001b[39m: Shape mismatch inside plate('batch') at site means_w1 dim -1, 398 vs 496",
            "\nThe above exception was the direct cause of the following exception:\n",
            "\u001b[31mValueError\u001b[39m                                Traceback (most recent call last)",
            "\u001b[36mCell\u001b[39m\u001b[36m \u001b[39m\u001b[32mIn[207]\u001b[39m\u001b[32m, line 2\u001b[39m\n\u001b[32m      1\u001b[39m \u001b[38;5;28;01mif\u001b[39;00m \u001b[34m__name__\u001b[39m == \u001b[33m\"\u001b[39m\u001b[33m__main__\u001b[39m\u001b[33m\"\u001b[39m:\n\u001b[32m----> \u001b[39m\u001b[32m2\u001b[39m     \u001b[43mmain\u001b[49m\u001b[43m(\u001b[49m\u001b[43m)\u001b[49m\n",
            "\u001b[36mCell\u001b[39m\u001b[36m \u001b[39m\u001b[32mIn[206]\u001b[39m\u001b[32m, line 6\u001b[39m, in \u001b[36mmain\u001b[39m\u001b[34m()\u001b[39m\n\u001b[32m      3\u001b[39m target_col = \u001b[33m\"\u001b[39m\u001b[33mdiagnosis\u001b[39m\u001b[33m\"\u001b[39m  \u001b[38;5;66;03m# Change for different datasets\u001b[39;00m\n\u001b[32m      4\u001b[39m X_train, X_test, y_train, y_test, input_dim = load_and_preprocess_data(file_path, target_col)\n\u001b[32m----> \u001b[39m\u001b[32m6\u001b[39m model = \u001b[43mtrain_model\u001b[49m\u001b[43m(\u001b[49m\u001b[43mX_train\u001b[49m\u001b[43m,\u001b[49m\u001b[43m \u001b[49m\u001b[43my_train\u001b[49m\u001b[43m,\u001b[49m\u001b[43m \u001b[49m\u001b[43minput_dim\u001b[49m\u001b[43m)\u001b[49m\n\u001b[32m      7\u001b[39m evaluate_model(model, X_test, y_test)\n",
            "\u001b[36mCell\u001b[39m\u001b[36m \u001b[39m\u001b[32mIn[204]\u001b[39m\u001b[32m, line 9\u001b[39m, in \u001b[36mtrain_model\u001b[39m\u001b[34m(X_train, y_train, input_dim, num_epochs)\u001b[39m\n\u001b[32m      6\u001b[39m svi = SVI(model.model, model.guide, optimizer, loss=Trace_ELBO())\n\u001b[32m      8\u001b[39m \u001b[38;5;28;01mfor\u001b[39;00m epoch \u001b[38;5;129;01min\u001b[39;00m \u001b[38;5;28mrange\u001b[39m(num_epochs):\n\u001b[32m----> \u001b[39m\u001b[32m9\u001b[39m     loss = \u001b[43msvi\u001b[49m\u001b[43m.\u001b[49m\u001b[43mstep\u001b[49m\u001b[43m(\u001b[49m\u001b[43mX_train\u001b[49m\u001b[43m,\u001b[49m\u001b[43m \u001b[49m\u001b[43my_train\u001b[49m\u001b[43m)\u001b[49m\n\u001b[32m     10\u001b[39m     \u001b[38;5;28;01mif\u001b[39;00m epoch % \u001b[32m100\u001b[39m == \u001b[32m0\u001b[39m:\n\u001b[32m     11\u001b[39m         \u001b[38;5;28mprint\u001b[39m(\u001b[33mf\u001b[39m\u001b[33m\"\u001b[39m\u001b[33mEpoch \u001b[39m\u001b[38;5;132;01m{\u001b[39;00mepoch\u001b[38;5;132;01m}\u001b[39;00m\u001b[33m: Loss = \u001b[39m\u001b[38;5;132;01m{\u001b[39;00mloss\u001b[38;5;132;01m}\u001b[39;00m\u001b[33m\"\u001b[39m)\n",
            "\u001b[36mFile \u001b[39m\u001b[32m~/.local/lib/python3.11/site-packages/pyro/infer/svi.py:145\u001b[39m, in \u001b[36mSVI.step\u001b[39m\u001b[34m(self, *args, **kwargs)\u001b[39m\n\u001b[32m    143\u001b[39m \u001b[38;5;66;03m# get loss and compute gradients\u001b[39;00m\n\u001b[32m    144\u001b[39m \u001b[38;5;28;01mwith\u001b[39;00m poutine.trace(param_only=\u001b[38;5;28;01mTrue\u001b[39;00m) \u001b[38;5;28;01mas\u001b[39;00m param_capture:\n\u001b[32m--> \u001b[39m\u001b[32m145\u001b[39m     loss = \u001b[38;5;28;43mself\u001b[39;49m\u001b[43m.\u001b[49m\u001b[43mloss_and_grads\u001b[49m\u001b[43m(\u001b[49m\u001b[38;5;28;43mself\u001b[39;49m\u001b[43m.\u001b[49m\u001b[43mmodel\u001b[49m\u001b[43m,\u001b[49m\u001b[43m \u001b[49m\u001b[38;5;28;43mself\u001b[39;49m\u001b[43m.\u001b[49m\u001b[43mguide\u001b[49m\u001b[43m,\u001b[49m\u001b[43m \u001b[49m\u001b[43m*\u001b[49m\u001b[43margs\u001b[49m\u001b[43m,\u001b[49m\u001b[43m \u001b[49m\u001b[43m*\u001b[49m\u001b[43m*\u001b[49m\u001b[43mkwargs\u001b[49m\u001b[43m)\u001b[49m\n\u001b[32m    147\u001b[39m params = \u001b[38;5;28mset\u001b[39m(\n\u001b[32m    148\u001b[39m     site[\u001b[33m\"\u001b[39m\u001b[33mvalue\u001b[39m\u001b[33m\"\u001b[39m].unconstrained() \u001b[38;5;28;01mfor\u001b[39;00m site \u001b[38;5;129;01min\u001b[39;00m param_capture.trace.nodes.values()\n\u001b[32m    149\u001b[39m )\n\u001b[32m    151\u001b[39m \u001b[38;5;66;03m# actually perform gradient steps\u001b[39;00m\n\u001b[32m    152\u001b[39m \u001b[38;5;66;03m# torch.optim objects gets instantiated for any params that haven't been seen yet\u001b[39;00m\n",
            "\u001b[36mFile \u001b[39m\u001b[32m~/.local/lib/python3.11/site-packages/pyro/infer/trace_elbo.py:140\u001b[39m, in \u001b[36mTrace_ELBO.loss_and_grads\u001b[39m\u001b[34m(self, model, guide, *args, **kwargs)\u001b[39m\n\u001b[32m    138\u001b[39m loss = \u001b[32m0.0\u001b[39m\n\u001b[32m    139\u001b[39m \u001b[38;5;66;03m# grab a trace from the generator\u001b[39;00m\n\u001b[32m--> \u001b[39m\u001b[32m140\u001b[39m \u001b[43m\u001b[49m\u001b[38;5;28;43;01mfor\u001b[39;49;00m\u001b[43m \u001b[49m\u001b[43mmodel_trace\u001b[49m\u001b[43m,\u001b[49m\u001b[43m \u001b[49m\u001b[43mguide_trace\u001b[49m\u001b[43m \u001b[49m\u001b[38;5;129;43;01min\u001b[39;49;00m\u001b[43m \u001b[49m\u001b[38;5;28;43mself\u001b[39;49m\u001b[43m.\u001b[49m\u001b[43m_get_traces\u001b[49m\u001b[43m(\u001b[49m\u001b[43mmodel\u001b[49m\u001b[43m,\u001b[49m\u001b[43m \u001b[49m\u001b[43mguide\u001b[49m\u001b[43m,\u001b[49m\u001b[43m \u001b[49m\u001b[43margs\u001b[49m\u001b[43m,\u001b[49m\u001b[43m \u001b[49m\u001b[43mkwargs\u001b[49m\u001b[43m)\u001b[49m\u001b[43m:\u001b[49m\n\u001b[32m    141\u001b[39m \u001b[43m    \u001b[49m\u001b[43mloss_particle\u001b[49m\u001b[43m,\u001b[49m\u001b[43m \u001b[49m\u001b[43msurrogate_loss_particle\u001b[49m\u001b[43m \u001b[49m\u001b[43m=\u001b[49m\u001b[43m \u001b[49m\u001b[38;5;28;43mself\u001b[39;49m\u001b[43m.\u001b[49m\u001b[43m_differentiable_loss_particle\u001b[49m\u001b[43m(\u001b[49m\n\u001b[32m    142\u001b[39m \u001b[43m        \u001b[49m\u001b[43mmodel_trace\u001b[49m\u001b[43m,\u001b[49m\u001b[43m \u001b[49m\u001b[43mguide_trace\u001b[49m\n\u001b[32m    143\u001b[39m \u001b[43m    \u001b[49m\u001b[43m)\u001b[49m\n\u001b[32m    144\u001b[39m \u001b[43m    \u001b[49m\u001b[43mloss\u001b[49m\u001b[43m \u001b[49m\u001b[43m+\u001b[49m\u001b[43m=\u001b[49m\u001b[43m \u001b[49m\u001b[43mloss_particle\u001b[49m\u001b[43m \u001b[49m\u001b[43m/\u001b[49m\u001b[43m \u001b[49m\u001b[38;5;28;43mself\u001b[39;49m\u001b[43m.\u001b[49m\u001b[43mnum_particles\u001b[49m\n",
            "\u001b[36mFile \u001b[39m\u001b[32m~/.local/lib/python3.11/site-packages/pyro/infer/elbo.py:237\u001b[39m, in \u001b[36mELBO._get_traces\u001b[39m\u001b[34m(self, model, guide, args, kwargs)\u001b[39m\n\u001b[32m    235\u001b[39m \u001b[38;5;28;01melse\u001b[39;00m:\n\u001b[32m    236\u001b[39m     \u001b[38;5;28;01mfor\u001b[39;00m i \u001b[38;5;129;01min\u001b[39;00m \u001b[38;5;28mrange\u001b[39m(\u001b[38;5;28mself\u001b[39m.num_particles):\n\u001b[32m--> \u001b[39m\u001b[32m237\u001b[39m         \u001b[38;5;28;01myield\u001b[39;00m \u001b[38;5;28;43mself\u001b[39;49m\u001b[43m.\u001b[49m\u001b[43m_get_trace\u001b[49m\u001b[43m(\u001b[49m\u001b[43mmodel\u001b[49m\u001b[43m,\u001b[49m\u001b[43m \u001b[49m\u001b[43mguide\u001b[49m\u001b[43m,\u001b[49m\u001b[43m \u001b[49m\u001b[43margs\u001b[49m\u001b[43m,\u001b[49m\u001b[43m \u001b[49m\u001b[43mkwargs\u001b[49m\u001b[43m)\u001b[49m\n",
            "\u001b[36mFile \u001b[39m\u001b[32m~/.local/lib/python3.11/site-packages/pyro/infer/trace_elbo.py:57\u001b[39m, in \u001b[36mTrace_ELBO._get_trace\u001b[39m\u001b[34m(self, model, guide, args, kwargs)\u001b[39m\n\u001b[32m     52\u001b[39m \u001b[38;5;28;01mdef\u001b[39;00m\u001b[38;5;250m \u001b[39m\u001b[34m_get_trace\u001b[39m(\u001b[38;5;28mself\u001b[39m, model, guide, args, kwargs):\n\u001b[32m     53\u001b[39m \u001b[38;5;250m    \u001b[39m\u001b[33;03m\"\"\"\u001b[39;00m\n\u001b[32m     54\u001b[39m \u001b[33;03m    Returns a single trace from the guide, and the model that is run\u001b[39;00m\n\u001b[32m     55\u001b[39m \u001b[33;03m    against it.\u001b[39;00m\n\u001b[32m     56\u001b[39m \u001b[33;03m    \"\"\"\u001b[39;00m\n\u001b[32m---> \u001b[39m\u001b[32m57\u001b[39m     model_trace, guide_trace = \u001b[43mget_importance_trace\u001b[49m\u001b[43m(\u001b[49m\n\u001b[32m     58\u001b[39m \u001b[43m        \u001b[49m\u001b[33;43m\"\u001b[39;49m\u001b[33;43mflat\u001b[39;49m\u001b[33;43m\"\u001b[39;49m\u001b[43m,\u001b[49m\u001b[43m \u001b[49m\u001b[38;5;28;43mself\u001b[39;49m\u001b[43m.\u001b[49m\u001b[43mmax_plate_nesting\u001b[49m\u001b[43m,\u001b[49m\u001b[43m \u001b[49m\u001b[43mmodel\u001b[49m\u001b[43m,\u001b[49m\u001b[43m \u001b[49m\u001b[43mguide\u001b[49m\u001b[43m,\u001b[49m\u001b[43m \u001b[49m\u001b[43margs\u001b[49m\u001b[43m,\u001b[49m\u001b[43m \u001b[49m\u001b[43mkwargs\u001b[49m\n\u001b[32m     59\u001b[39m \u001b[43m    \u001b[49m\u001b[43m)\u001b[49m\n\u001b[32m     60\u001b[39m     \u001b[38;5;28;01mif\u001b[39;00m is_validation_enabled():\n\u001b[32m     61\u001b[39m         check_if_enumerated(guide_trace)\n",
            "\u001b[36mFile \u001b[39m\u001b[32m~/.local/lib/python3.11/site-packages/pyro/infer/enum.py:60\u001b[39m, in \u001b[36mget_importance_trace\u001b[39m\u001b[34m(graph_type, max_plate_nesting, model, guide, args, kwargs, detach)\u001b[39m\n\u001b[32m     58\u001b[39m     model_trace, guide_trace = unwrapped_guide.get_traces()\n\u001b[32m     59\u001b[39m \u001b[38;5;28;01melse\u001b[39;00m:\n\u001b[32m---> \u001b[39m\u001b[32m60\u001b[39m     guide_trace = \u001b[43mpoutine\u001b[49m\u001b[43m.\u001b[49m\u001b[43mtrace\u001b[49m\u001b[43m(\u001b[49m\u001b[43mguide\u001b[49m\u001b[43m,\u001b[49m\u001b[43m \u001b[49m\u001b[43mgraph_type\u001b[49m\u001b[43m=\u001b[49m\u001b[43mgraph_type\u001b[49m\u001b[43m)\u001b[49m\u001b[43m.\u001b[49m\u001b[43mget_trace\u001b[49m\u001b[43m(\u001b[49m\n\u001b[32m     61\u001b[39m \u001b[43m        \u001b[49m\u001b[43m*\u001b[49m\u001b[43margs\u001b[49m\u001b[43m,\u001b[49m\u001b[43m \u001b[49m\u001b[43m*\u001b[49m\u001b[43m*\u001b[49m\u001b[43mkwargs\u001b[49m\n\u001b[32m     62\u001b[39m \u001b[43m    \u001b[49m\u001b[43m)\u001b[49m\n\u001b[32m     63\u001b[39m     \u001b[38;5;28;01mif\u001b[39;00m detach:\n\u001b[32m     64\u001b[39m         guide_trace.detach_()\n",
            "\u001b[36mFile \u001b[39m\u001b[32m~/.local/lib/python3.11/site-packages/pyro/poutine/trace_messenger.py:216\u001b[39m, in \u001b[36mTraceHandler.get_trace\u001b[39m\u001b[34m(self, *args, **kwargs)\u001b[39m\n\u001b[32m    208\u001b[39m \u001b[38;5;28;01mdef\u001b[39;00m\u001b[38;5;250m \u001b[39m\u001b[34mget_trace\u001b[39m(\u001b[38;5;28mself\u001b[39m, *args, **kwargs) -> Trace:\n\u001b[32m    209\u001b[39m \u001b[38;5;250m    \u001b[39m\u001b[33;03m\"\"\"\u001b[39;00m\n\u001b[32m    210\u001b[39m \u001b[33;03m    :returns: data structure\u001b[39;00m\n\u001b[32m    211\u001b[39m \u001b[33;03m    :rtype: pyro.poutine.Trace\u001b[39;00m\n\u001b[32m   (...)\u001b[39m\u001b[32m    214\u001b[39m \u001b[33;03m    Calls this poutine and returns its trace instead of the function's return value.\u001b[39;00m\n\u001b[32m    215\u001b[39m \u001b[33;03m    \"\"\"\u001b[39;00m\n\u001b[32m--> \u001b[39m\u001b[32m216\u001b[39m     \u001b[38;5;28;43mself\u001b[39;49m\u001b[43m(\u001b[49m\u001b[43m*\u001b[49m\u001b[43margs\u001b[49m\u001b[43m,\u001b[49m\u001b[43m \u001b[49m\u001b[43m*\u001b[49m\u001b[43m*\u001b[49m\u001b[43mkwargs\u001b[49m\u001b[43m)\u001b[49m\n\u001b[32m    217\u001b[39m     \u001b[38;5;28;01mreturn\u001b[39;00m \u001b[38;5;28mself\u001b[39m.msngr.get_trace()\n",
            "\u001b[36mFile \u001b[39m\u001b[32m~/.local/lib/python3.11/site-packages/pyro/poutine/trace_messenger.py:198\u001b[39m, in \u001b[36mTraceHandler.__call__\u001b[39m\u001b[34m(self, *args, **kwargs)\u001b[39m\n\u001b[32m    196\u001b[39m         exc = exc_type(\u001b[33m\"\u001b[39m\u001b[38;5;132;01m{}\u001b[39;00m\u001b[38;5;130;01m\\n\u001b[39;00m\u001b[38;5;132;01m{}\u001b[39;00m\u001b[33m\"\u001b[39m.format(exc_value, shapes))\n\u001b[32m    197\u001b[39m         exc = exc.with_traceback(traceback)\n\u001b[32m--> \u001b[39m\u001b[32m198\u001b[39m         \u001b[38;5;28;01mraise\u001b[39;00m exc \u001b[38;5;28;01mfrom\u001b[39;00m\u001b[38;5;250m \u001b[39m\u001b[34;01me\u001b[39;00m\n\u001b[32m    199\u001b[39m     \u001b[38;5;28mself\u001b[39m.msngr.trace.add_node(\n\u001b[32m    200\u001b[39m         \u001b[33m\"\u001b[39m\u001b[33m_RETURN\u001b[39m\u001b[33m\"\u001b[39m, name=\u001b[33m\"\u001b[39m\u001b[33m_RETURN\u001b[39m\u001b[33m\"\u001b[39m, \u001b[38;5;28mtype\u001b[39m=\u001b[33m\"\u001b[39m\u001b[33mreturn\u001b[39m\u001b[33m\"\u001b[39m, value=ret\n\u001b[32m    201\u001b[39m     )\n\u001b[32m    202\u001b[39m \u001b[38;5;28;01mreturn\u001b[39;00m ret\n",
            "\u001b[36mFile \u001b[39m\u001b[32m~/.local/lib/python3.11/site-packages/pyro/poutine/trace_messenger.py:191\u001b[39m, in \u001b[36mTraceHandler.__call__\u001b[39m\u001b[34m(self, *args, **kwargs)\u001b[39m\n\u001b[32m    187\u001b[39m \u001b[38;5;28mself\u001b[39m.msngr.trace.add_node(\n\u001b[32m    188\u001b[39m     \u001b[33m\"\u001b[39m\u001b[33m_INPUT\u001b[39m\u001b[33m\"\u001b[39m, name=\u001b[33m\"\u001b[39m\u001b[33m_INPUT\u001b[39m\u001b[33m\"\u001b[39m, \u001b[38;5;28mtype\u001b[39m=\u001b[33m\"\u001b[39m\u001b[33margs\u001b[39m\u001b[33m\"\u001b[39m, args=args, kwargs=kwargs\n\u001b[32m    189\u001b[39m )\n\u001b[32m    190\u001b[39m \u001b[38;5;28;01mtry\u001b[39;00m:\n\u001b[32m--> \u001b[39m\u001b[32m191\u001b[39m     ret = \u001b[38;5;28;43mself\u001b[39;49m\u001b[43m.\u001b[49m\u001b[43mfn\u001b[49m\u001b[43m(\u001b[49m\u001b[43m*\u001b[49m\u001b[43margs\u001b[49m\u001b[43m,\u001b[49m\u001b[43m \u001b[49m\u001b[43m*\u001b[49m\u001b[43m*\u001b[49m\u001b[43mkwargs\u001b[49m\u001b[43m)\u001b[49m\n\u001b[32m    192\u001b[39m \u001b[38;5;28;01mexcept\u001b[39;00m (\u001b[38;5;167;01mValueError\u001b[39;00m, \u001b[38;5;167;01mRuntimeError\u001b[39;00m) \u001b[38;5;28;01mas\u001b[39;00m e:\n\u001b[32m    193\u001b[39m     exc_type, exc_value, traceback = sys.exc_info()\n",
            "\u001b[36mCell\u001b[39m\u001b[36m \u001b[39m\u001b[32mIn[203]\u001b[39m\u001b[32m, line 93\u001b[39m, in \u001b[36mBoostedVI_BayesianFNN.guide\u001b[39m\u001b[34m(self, X, y)\u001b[39m\n\u001b[32m     90\u001b[39m scales_w1_q = pyro.param(\u001b[33m\"\u001b[39m\u001b[33mscales_w1_q\u001b[39m\u001b[33m\"\u001b[39m, torch.ones(\u001b[38;5;28mself\u001b[39m.input_dim * \u001b[38;5;28mself\u001b[39m.hidden_dim, \u001b[38;5;28mself\u001b[39m.num_mixtures), constraint=constraints.positive)\n\u001b[32m     92\u001b[39m \u001b[38;5;28;01mwith\u001b[39;00m pyro.plate(\u001b[33m\"\u001b[39m\u001b[33mlayers_w1\u001b[39m\u001b[33m\"\u001b[39m, \u001b[38;5;28mself\u001b[39m.input_dim * \u001b[38;5;28mself\u001b[39m.hidden_dim, dim=-\u001b[32m2\u001b[39m):  \u001b[38;5;66;03m# 🔹 Fix mismatch\u001b[39;00m\n\u001b[32m---> \u001b[39m\u001b[32m93\u001b[39m     \u001b[43mpyro\u001b[49m\u001b[43m.\u001b[49m\u001b[43msample\u001b[49m\u001b[43m(\u001b[49m\u001b[33;43m\"\u001b[39;49m\u001b[33;43mmeans_w1\u001b[39;49m\u001b[33;43m\"\u001b[39;49m\u001b[43m,\u001b[49m\u001b[43m \u001b[49m\u001b[43mdist\u001b[49m\u001b[43m.\u001b[49m\u001b[43mNormal\u001b[49m\u001b[43m(\u001b[49m\u001b[43mmeans_w1_q\u001b[49m\u001b[43m,\u001b[49m\u001b[43m \u001b[49m\u001b[43mscales_w1_q\u001b[49m\u001b[43m)\u001b[49m\u001b[43m.\u001b[49m\u001b[43mto_event\u001b[49m\u001b[43m(\u001b[49m\u001b[32;43m1\u001b[39;49m\u001b[43m)\u001b[49m\u001b[43m)\u001b[49m\n\u001b[32m     95\u001b[39m b1_q = pyro.param(\u001b[33m\"\u001b[39m\u001b[33mb1_q\u001b[39m\u001b[33m\"\u001b[39m, torch.zeros(\u001b[38;5;28mself\u001b[39m.hidden_dim))\n\u001b[32m     96\u001b[39m pyro.sample(\u001b[33m\"\u001b[39m\u001b[33mb1\u001b[39m\u001b[33m\"\u001b[39m, dist.Normal(b1_q, \u001b[32m0.1\u001b[39m * torch.ones_like(b1_q)))\n",
            "\u001b[36mFile \u001b[39m\u001b[32m~/.local/lib/python3.11/site-packages/pyro/primitives.py:189\u001b[39m, in \u001b[36msample\u001b[39m\u001b[34m(name, fn, obs, obs_mask, infer, *args, **kwargs)\u001b[39m\n\u001b[32m    172\u001b[39m msg = Message(\n\u001b[32m    173\u001b[39m     \u001b[38;5;28mtype\u001b[39m=\u001b[33m\"\u001b[39m\u001b[33msample\u001b[39m\u001b[33m\"\u001b[39m,\n\u001b[32m    174\u001b[39m     name=name,\n\u001b[32m   (...)\u001b[39m\u001b[32m    186\u001b[39m     continuation=\u001b[38;5;28;01mNone\u001b[39;00m,\n\u001b[32m    187\u001b[39m )\n\u001b[32m    188\u001b[39m \u001b[38;5;66;03m# apply the stack and return its return value\u001b[39;00m\n\u001b[32m--> \u001b[39m\u001b[32m189\u001b[39m \u001b[43mapply_stack\u001b[49m\u001b[43m(\u001b[49m\u001b[43mmsg\u001b[49m\u001b[43m)\u001b[49m\n\u001b[32m    190\u001b[39m \u001b[38;5;28;01massert\u001b[39;00m msg[\u001b[33m\"\u001b[39m\u001b[33mvalue\u001b[39m\u001b[33m\"\u001b[39m] \u001b[38;5;129;01mis\u001b[39;00m \u001b[38;5;129;01mnot\u001b[39;00m \u001b[38;5;28;01mNone\u001b[39;00m  \u001b[38;5;66;03m# type narrowing guaranteed by apply_stack\u001b[39;00m\n\u001b[32m    191\u001b[39m \u001b[38;5;28;01mreturn\u001b[39;00m msg[\u001b[33m\"\u001b[39m\u001b[33mvalue\u001b[39m\u001b[33m\"\u001b[39m]\n",
            "\u001b[36mFile \u001b[39m\u001b[32m~/.local/lib/python3.11/site-packages/pyro/poutine/runtime.py:378\u001b[39m, in \u001b[36mapply_stack\u001b[39m\u001b[34m(initial_msg)\u001b[39m\n\u001b[32m    375\u001b[39m \u001b[38;5;28;01mfor\u001b[39;00m frame \u001b[38;5;129;01min\u001b[39;00m \u001b[38;5;28mreversed\u001b[39m(stack):\n\u001b[32m    376\u001b[39m     pointer = pointer + \u001b[32m1\u001b[39m\n\u001b[32m--> \u001b[39m\u001b[32m378\u001b[39m     \u001b[43mframe\u001b[49m\u001b[43m.\u001b[49m\u001b[43m_process_message\u001b[49m\u001b[43m(\u001b[49m\u001b[43mmsg\u001b[49m\u001b[43m)\u001b[49m\n\u001b[32m    380\u001b[39m     \u001b[38;5;28;01mif\u001b[39;00m msg[\u001b[33m\"\u001b[39m\u001b[33mstop\u001b[39m\u001b[33m\"\u001b[39m]:\n\u001b[32m    381\u001b[39m         \u001b[38;5;28;01mbreak\u001b[39;00m\n",
            "\u001b[36mFile \u001b[39m\u001b[32m~/.local/lib/python3.11/site-packages/pyro/poutine/plate_messenger.py:25\u001b[39m, in \u001b[36mPlateMessenger._process_message\u001b[39m\u001b[34m(self, msg)\u001b[39m\n\u001b[32m     23\u001b[39m \u001b[38;5;28;01mdef\u001b[39;00m\u001b[38;5;250m \u001b[39m\u001b[34m_process_message\u001b[39m(\u001b[38;5;28mself\u001b[39m, msg: \u001b[33m\"\u001b[39m\u001b[33mMessage\u001b[39m\u001b[33m\"\u001b[39m) -> \u001b[38;5;28;01mNone\u001b[39;00m:\n\u001b[32m     24\u001b[39m     \u001b[38;5;28msuper\u001b[39m()._process_message(msg)\n\u001b[32m---> \u001b[39m\u001b[32m25\u001b[39m     \u001b[43mBroadcastMessenger\u001b[49m\u001b[43m.\u001b[49m\u001b[43m_pyro_sample\u001b[49m\u001b[43m(\u001b[49m\u001b[43mmsg\u001b[49m\u001b[43m)\u001b[49m\n",
            "\u001b[36mFile \u001b[39m\u001b[32m/usr/local/lib/python3.11/contextlib.py:81\u001b[39m, in \u001b[36mContextDecorator.__call__.<locals>.inner\u001b[39m\u001b[34m(*args, **kwds)\u001b[39m\n\u001b[32m     78\u001b[39m \u001b[38;5;129m@wraps\u001b[39m(func)\n\u001b[32m     79\u001b[39m \u001b[38;5;28;01mdef\u001b[39;00m\u001b[38;5;250m \u001b[39m\u001b[34minner\u001b[39m(*args, **kwds):\n\u001b[32m     80\u001b[39m     \u001b[38;5;28;01mwith\u001b[39;00m \u001b[38;5;28mself\u001b[39m._recreate_cm():\n\u001b[32m---> \u001b[39m\u001b[32m81\u001b[39m         \u001b[38;5;28;01mreturn\u001b[39;00m \u001b[43mfunc\u001b[49m\u001b[43m(\u001b[49m\u001b[43m*\u001b[49m\u001b[43margs\u001b[49m\u001b[43m,\u001b[49m\u001b[43m \u001b[49m\u001b[43m*\u001b[49m\u001b[43m*\u001b[49m\u001b[43mkwds\u001b[49m\u001b[43m)\u001b[49m\n",
            "\u001b[36mFile \u001b[39m\u001b[32m~/.local/lib/python3.11/site-packages/pyro/poutine/broadcast_messenger.py:74\u001b[39m, in \u001b[36mBroadcastMessenger._pyro_sample\u001b[39m\u001b[34m(msg)\u001b[39m\n\u001b[32m     69\u001b[39m     target_batch_shape = prefix_batch_shape + target_batch_shape\n\u001b[32m     70\u001b[39m     \u001b[38;5;28;01mif\u001b[39;00m (\n\u001b[32m     71\u001b[39m         target_batch_shape[f.dim] \u001b[38;5;129;01mis\u001b[39;00m \u001b[38;5;129;01mnot\u001b[39;00m \u001b[38;5;28;01mNone\u001b[39;00m\n\u001b[32m     72\u001b[39m         \u001b[38;5;129;01mand\u001b[39;00m target_batch_shape[f.dim] != f.size\n\u001b[32m     73\u001b[39m     ):\n\u001b[32m---> \u001b[39m\u001b[32m74\u001b[39m         \u001b[38;5;28;01mraise\u001b[39;00m \u001b[38;5;167;01mValueError\u001b[39;00m(\n\u001b[32m     75\u001b[39m             \u001b[33m\"\u001b[39m\u001b[33mShape mismatch inside plate(\u001b[39m\u001b[33m'\u001b[39m\u001b[38;5;132;01m{}\u001b[39;00m\u001b[33m'\u001b[39m\u001b[33m) at site \u001b[39m\u001b[38;5;132;01m{}\u001b[39;00m\u001b[33m dim \u001b[39m\u001b[38;5;132;01m{}\u001b[39;00m\u001b[33m, \u001b[39m\u001b[38;5;132;01m{}\u001b[39;00m\u001b[33m vs \u001b[39m\u001b[38;5;132;01m{}\u001b[39;00m\u001b[33m\"\u001b[39m.format(\n\u001b[32m     76\u001b[39m                 f.name,\n\u001b[32m     77\u001b[39m                 msg[\u001b[33m\"\u001b[39m\u001b[33mname\u001b[39m\u001b[33m\"\u001b[39m],\n\u001b[32m     78\u001b[39m                 f.dim,\n\u001b[32m     79\u001b[39m                 f.size,\n\u001b[32m     80\u001b[39m                 target_batch_shape[f.dim],\n\u001b[32m     81\u001b[39m             )\n\u001b[32m     82\u001b[39m         )\n\u001b[32m     83\u001b[39m     target_batch_shape[f.dim] = f.size\n\u001b[32m     84\u001b[39m \u001b[38;5;66;03m# Starting from the right, if expected size is None at an index,\u001b[39;00m\n\u001b[32m     85\u001b[39m \u001b[38;5;66;03m# set it to the actual size if it exists, else 1.\u001b[39;00m\n",
            "\u001b[31mValueError\u001b[39m: Shape mismatch inside plate('batch') at site means_w1 dim -1, 398 vs 496\n   Trace Shapes:        \n    Param Sites:        \n   mix_weights_q     3  \n      means_w1_q 496 3  \n     scales_w1_q 496 3  \n   Sample Sites:        \n      batch dist     |  \n           value 398 |  \nmix_weights dist 398 | 3\n           value 398 | 3\n  layers_w1 dist     |  \n           value 496 |  "
          ]
        }
      ],
      "source": [
        "if __name__ == \"__main__\":\n",
        "    main()"
      ]
    },
    {
      "cell_type": "code",
      "execution_count": 208,
      "metadata": {},
      "outputs": [
        {
          "name": "stdout",
          "output_type": "stream",
          "text": [
            "Expected batch size: 5\n",
            "Error: Shape mismatch inside plate('batch') at site means_w1 dim -1, 5 vs 496\n"
          ]
        }
      ],
      "source": [
        "model_instance = BoostedVI_BayesianFNN(input_dim=31, hidden_dim=16, output_dim=1, num_mixtures=3)\n",
        "X_dummy = torch.randn(5, 31)  # Batch size 5, input_dim=31\n",
        "try:\n",
        "    output = model_instance.model(X_dummy)\n",
        "    print(\"Model ran successfully with output:\", output.shape)\n",
        "except Exception as e:\n",
        "    print(\"Error:\", e)\n"
      ]
    },
    {
      "cell_type": "code",
      "execution_count": null,
      "metadata": {},
      "outputs": [
        {
          "ename": "ValueError",
          "evalue": "Shape mismatch inside plate('batch') at site w1 dim -1, 455 vs 16\nTrace Shapes:       \n Param Sites:       \n       w1_loc  30 16\n     w1_scale  30 16\nSample Sites:       \n   batch dist      |\n        value 455  |",
          "output_type": "error",
          "traceback": [
            "\u001b[31m---------------------------------------------------------------------------\u001b[39m",
            "\u001b[31mValueError\u001b[39m                                Traceback (most recent call last)",
            "\u001b[36mFile \u001b[39m\u001b[32m~/.local/lib/python3.11/site-packages/pyro/poutine/trace_messenger.py:191\u001b[39m, in \u001b[36mTraceHandler.__call__\u001b[39m\u001b[34m(self, *args, **kwargs)\u001b[39m\n\u001b[32m    190\u001b[39m \u001b[38;5;28;01mtry\u001b[39;00m:\n\u001b[32m--> \u001b[39m\u001b[32m191\u001b[39m     ret = \u001b[38;5;28;43mself\u001b[39;49m\u001b[43m.\u001b[49m\u001b[43mfn\u001b[49m\u001b[43m(\u001b[49m\u001b[43m*\u001b[49m\u001b[43margs\u001b[49m\u001b[43m,\u001b[49m\u001b[43m \u001b[49m\u001b[43m*\u001b[49m\u001b[43m*\u001b[49m\u001b[43mkwargs\u001b[49m\u001b[43m)\u001b[49m\n\u001b[32m    192\u001b[39m \u001b[38;5;28;01mexcept\u001b[39;00m (\u001b[38;5;167;01mValueError\u001b[39;00m, \u001b[38;5;167;01mRuntimeError\u001b[39;00m) \u001b[38;5;28;01mas\u001b[39;00m e:\n",
            "\u001b[36mCell\u001b[39m\u001b[36m \u001b[39m\u001b[32mIn[211]\u001b[39m\u001b[32m, line 55\u001b[39m, in \u001b[36mBayesianNN.guide\u001b[39m\u001b[34m(self, X, y)\u001b[39m\n\u001b[32m     54\u001b[39m w1_scale = pyro.param(\u001b[33m\"\u001b[39m\u001b[33mw1_scale\u001b[39m\u001b[33m\"\u001b[39m, torch.ones(\u001b[38;5;28mself\u001b[39m.input_dim, \u001b[38;5;28mself\u001b[39m.hidden_dim), constraint=dist.constraints.positive)\n\u001b[32m---> \u001b[39m\u001b[32m55\u001b[39m \u001b[43mpyro\u001b[49m\u001b[43m.\u001b[49m\u001b[43msample\u001b[49m\u001b[43m(\u001b[49m\u001b[33;43m\"\u001b[39;49m\u001b[33;43mw1\u001b[39;49m\u001b[33;43m\"\u001b[39;49m\u001b[43m,\u001b[49m\u001b[43m \u001b[49m\u001b[43mdist\u001b[49m\u001b[43m.\u001b[49m\u001b[43mNormal\u001b[49m\u001b[43m(\u001b[49m\u001b[43mw1_loc\u001b[49m\u001b[43m,\u001b[49m\u001b[43m \u001b[49m\u001b[43mw1_scale\u001b[49m\u001b[43m)\u001b[49m\u001b[43m)\u001b[49m\n\u001b[32m     57\u001b[39m b1_loc = pyro.param(\u001b[33m\"\u001b[39m\u001b[33mb1_loc\u001b[39m\u001b[33m\"\u001b[39m, torch.zeros(\u001b[38;5;28mself\u001b[39m.hidden_dim))\n",
            "\u001b[36mFile \u001b[39m\u001b[32m~/.local/lib/python3.11/site-packages/pyro/primitives.py:189\u001b[39m, in \u001b[36msample\u001b[39m\u001b[34m(name, fn, obs, obs_mask, infer, *args, **kwargs)\u001b[39m\n\u001b[32m    188\u001b[39m \u001b[38;5;66;03m# apply the stack and return its return value\u001b[39;00m\n\u001b[32m--> \u001b[39m\u001b[32m189\u001b[39m \u001b[43mapply_stack\u001b[49m\u001b[43m(\u001b[49m\u001b[43mmsg\u001b[49m\u001b[43m)\u001b[49m\n\u001b[32m    190\u001b[39m \u001b[38;5;28;01massert\u001b[39;00m msg[\u001b[33m\"\u001b[39m\u001b[33mvalue\u001b[39m\u001b[33m\"\u001b[39m] \u001b[38;5;129;01mis\u001b[39;00m \u001b[38;5;129;01mnot\u001b[39;00m \u001b[38;5;28;01mNone\u001b[39;00m  \u001b[38;5;66;03m# type narrowing guaranteed by apply_stack\u001b[39;00m\n",
            "\u001b[36mFile \u001b[39m\u001b[32m~/.local/lib/python3.11/site-packages/pyro/poutine/runtime.py:378\u001b[39m, in \u001b[36mapply_stack\u001b[39m\u001b[34m(initial_msg)\u001b[39m\n\u001b[32m    376\u001b[39m pointer = pointer + \u001b[32m1\u001b[39m\n\u001b[32m--> \u001b[39m\u001b[32m378\u001b[39m \u001b[43mframe\u001b[49m\u001b[43m.\u001b[49m\u001b[43m_process_message\u001b[49m\u001b[43m(\u001b[49m\u001b[43mmsg\u001b[49m\u001b[43m)\u001b[49m\n\u001b[32m    380\u001b[39m \u001b[38;5;28;01mif\u001b[39;00m msg[\u001b[33m\"\u001b[39m\u001b[33mstop\u001b[39m\u001b[33m\"\u001b[39m]:\n",
            "\u001b[36mFile \u001b[39m\u001b[32m~/.local/lib/python3.11/site-packages/pyro/poutine/plate_messenger.py:25\u001b[39m, in \u001b[36mPlateMessenger._process_message\u001b[39m\u001b[34m(self, msg)\u001b[39m\n\u001b[32m     24\u001b[39m \u001b[38;5;28msuper\u001b[39m()._process_message(msg)\n\u001b[32m---> \u001b[39m\u001b[32m25\u001b[39m \u001b[43mBroadcastMessenger\u001b[49m\u001b[43m.\u001b[49m\u001b[43m_pyro_sample\u001b[49m\u001b[43m(\u001b[49m\u001b[43mmsg\u001b[49m\u001b[43m)\u001b[49m\n",
            "\u001b[36mFile \u001b[39m\u001b[32m/usr/local/lib/python3.11/contextlib.py:81\u001b[39m, in \u001b[36mContextDecorator.__call__.<locals>.inner\u001b[39m\u001b[34m(*args, **kwds)\u001b[39m\n\u001b[32m     80\u001b[39m \u001b[38;5;28;01mwith\u001b[39;00m \u001b[38;5;28mself\u001b[39m._recreate_cm():\n\u001b[32m---> \u001b[39m\u001b[32m81\u001b[39m     \u001b[38;5;28;01mreturn\u001b[39;00m \u001b[43mfunc\u001b[49m\u001b[43m(\u001b[49m\u001b[43m*\u001b[49m\u001b[43margs\u001b[49m\u001b[43m,\u001b[49m\u001b[43m \u001b[49m\u001b[43m*\u001b[49m\u001b[43m*\u001b[49m\u001b[43mkwds\u001b[49m\u001b[43m)\u001b[49m\n",
            "\u001b[36mFile \u001b[39m\u001b[32m~/.local/lib/python3.11/site-packages/pyro/poutine/broadcast_messenger.py:74\u001b[39m, in \u001b[36mBroadcastMessenger._pyro_sample\u001b[39m\u001b[34m(msg)\u001b[39m\n\u001b[32m     70\u001b[39m \u001b[38;5;28;01mif\u001b[39;00m (\n\u001b[32m     71\u001b[39m     target_batch_shape[f.dim] \u001b[38;5;129;01mis\u001b[39;00m \u001b[38;5;129;01mnot\u001b[39;00m \u001b[38;5;28;01mNone\u001b[39;00m\n\u001b[32m     72\u001b[39m     \u001b[38;5;129;01mand\u001b[39;00m target_batch_shape[f.dim] != f.size\n\u001b[32m     73\u001b[39m ):\n\u001b[32m---> \u001b[39m\u001b[32m74\u001b[39m     \u001b[38;5;28;01mraise\u001b[39;00m \u001b[38;5;167;01mValueError\u001b[39;00m(\n\u001b[32m     75\u001b[39m         \u001b[33m\"\u001b[39m\u001b[33mShape mismatch inside plate(\u001b[39m\u001b[33m'\u001b[39m\u001b[38;5;132;01m{}\u001b[39;00m\u001b[33m'\u001b[39m\u001b[33m) at site \u001b[39m\u001b[38;5;132;01m{}\u001b[39;00m\u001b[33m dim \u001b[39m\u001b[38;5;132;01m{}\u001b[39;00m\u001b[33m, \u001b[39m\u001b[38;5;132;01m{}\u001b[39;00m\u001b[33m vs \u001b[39m\u001b[38;5;132;01m{}\u001b[39;00m\u001b[33m\"\u001b[39m.format(\n\u001b[32m     76\u001b[39m             f.name,\n\u001b[32m     77\u001b[39m             msg[\u001b[33m\"\u001b[39m\u001b[33mname\u001b[39m\u001b[33m\"\u001b[39m],\n\u001b[32m     78\u001b[39m             f.dim,\n\u001b[32m     79\u001b[39m             f.size,\n\u001b[32m     80\u001b[39m             target_batch_shape[f.dim],\n\u001b[32m     81\u001b[39m         )\n\u001b[32m     82\u001b[39m     )\n\u001b[32m     83\u001b[39m target_batch_shape[f.dim] = f.size\n",
            "\u001b[31mValueError\u001b[39m: Shape mismatch inside plate('batch') at site w1 dim -1, 455 vs 16",
            "\nThe above exception was the direct cause of the following exception:\n",
            "\u001b[31mValueError\u001b[39m                                Traceback (most recent call last)",
            "\u001b[36mCell\u001b[39m\u001b[36m \u001b[39m\u001b[32mIn[211]\u001b[39m\u001b[32m, line 77\u001b[39m\n\u001b[32m     75\u001b[39m num_epochs = \u001b[32m1000\u001b[39m\n\u001b[32m     76\u001b[39m \u001b[38;5;28;01mfor\u001b[39;00m epoch \u001b[38;5;129;01min\u001b[39;00m \u001b[38;5;28mrange\u001b[39m(num_epochs):\n\u001b[32m---> \u001b[39m\u001b[32m77\u001b[39m     loss = \u001b[43msvi\u001b[49m\u001b[43m.\u001b[49m\u001b[43mstep\u001b[49m\u001b[43m(\u001b[49m\u001b[43mX_train_tensor\u001b[49m\u001b[43m,\u001b[49m\u001b[43m \u001b[49m\u001b[43my_train_tensor\u001b[49m\u001b[43m)\u001b[49m\n\u001b[32m     78\u001b[39m     \u001b[38;5;28;01mif\u001b[39;00m epoch % \u001b[32m100\u001b[39m == \u001b[32m0\u001b[39m:\n\u001b[32m     79\u001b[39m         \u001b[38;5;28mprint\u001b[39m(\u001b[33mf\u001b[39m\u001b[33m\"\u001b[39m\u001b[33mEpoch \u001b[39m\u001b[38;5;132;01m{\u001b[39;00mepoch\u001b[38;5;132;01m}\u001b[39;00m\u001b[33m: Loss = \u001b[39m\u001b[38;5;132;01m{\u001b[39;00mloss\u001b[38;5;132;01m}\u001b[39;00m\u001b[33m\"\u001b[39m)\n",
            "\u001b[36mFile \u001b[39m\u001b[32m~/.local/lib/python3.11/site-packages/pyro/infer/svi.py:145\u001b[39m, in \u001b[36mSVI.step\u001b[39m\u001b[34m(self, *args, **kwargs)\u001b[39m\n\u001b[32m    143\u001b[39m \u001b[38;5;66;03m# get loss and compute gradients\u001b[39;00m\n\u001b[32m    144\u001b[39m \u001b[38;5;28;01mwith\u001b[39;00m poutine.trace(param_only=\u001b[38;5;28;01mTrue\u001b[39;00m) \u001b[38;5;28;01mas\u001b[39;00m param_capture:\n\u001b[32m--> \u001b[39m\u001b[32m145\u001b[39m     loss = \u001b[38;5;28;43mself\u001b[39;49m\u001b[43m.\u001b[49m\u001b[43mloss_and_grads\u001b[49m\u001b[43m(\u001b[49m\u001b[38;5;28;43mself\u001b[39;49m\u001b[43m.\u001b[49m\u001b[43mmodel\u001b[49m\u001b[43m,\u001b[49m\u001b[43m \u001b[49m\u001b[38;5;28;43mself\u001b[39;49m\u001b[43m.\u001b[49m\u001b[43mguide\u001b[49m\u001b[43m,\u001b[49m\u001b[43m \u001b[49m\u001b[43m*\u001b[49m\u001b[43margs\u001b[49m\u001b[43m,\u001b[49m\u001b[43m \u001b[49m\u001b[43m*\u001b[49m\u001b[43m*\u001b[49m\u001b[43mkwargs\u001b[49m\u001b[43m)\u001b[49m\n\u001b[32m    147\u001b[39m params = \u001b[38;5;28mset\u001b[39m(\n\u001b[32m    148\u001b[39m     site[\u001b[33m\"\u001b[39m\u001b[33mvalue\u001b[39m\u001b[33m\"\u001b[39m].unconstrained() \u001b[38;5;28;01mfor\u001b[39;00m site \u001b[38;5;129;01min\u001b[39;00m param_capture.trace.nodes.values()\n\u001b[32m    149\u001b[39m )\n\u001b[32m    151\u001b[39m \u001b[38;5;66;03m# actually perform gradient steps\u001b[39;00m\n\u001b[32m    152\u001b[39m \u001b[38;5;66;03m# torch.optim objects gets instantiated for any params that haven't been seen yet\u001b[39;00m\n",
            "\u001b[36mFile \u001b[39m\u001b[32m~/.local/lib/python3.11/site-packages/pyro/infer/trace_elbo.py:140\u001b[39m, in \u001b[36mTrace_ELBO.loss_and_grads\u001b[39m\u001b[34m(self, model, guide, *args, **kwargs)\u001b[39m\n\u001b[32m    138\u001b[39m loss = \u001b[32m0.0\u001b[39m\n\u001b[32m    139\u001b[39m \u001b[38;5;66;03m# grab a trace from the generator\u001b[39;00m\n\u001b[32m--> \u001b[39m\u001b[32m140\u001b[39m \u001b[43m\u001b[49m\u001b[38;5;28;43;01mfor\u001b[39;49;00m\u001b[43m \u001b[49m\u001b[43mmodel_trace\u001b[49m\u001b[43m,\u001b[49m\u001b[43m \u001b[49m\u001b[43mguide_trace\u001b[49m\u001b[43m \u001b[49m\u001b[38;5;129;43;01min\u001b[39;49;00m\u001b[43m \u001b[49m\u001b[38;5;28;43mself\u001b[39;49m\u001b[43m.\u001b[49m\u001b[43m_get_traces\u001b[49m\u001b[43m(\u001b[49m\u001b[43mmodel\u001b[49m\u001b[43m,\u001b[49m\u001b[43m \u001b[49m\u001b[43mguide\u001b[49m\u001b[43m,\u001b[49m\u001b[43m \u001b[49m\u001b[43margs\u001b[49m\u001b[43m,\u001b[49m\u001b[43m \u001b[49m\u001b[43mkwargs\u001b[49m\u001b[43m)\u001b[49m\u001b[43m:\u001b[49m\n\u001b[32m    141\u001b[39m \u001b[43m    \u001b[49m\u001b[43mloss_particle\u001b[49m\u001b[43m,\u001b[49m\u001b[43m \u001b[49m\u001b[43msurrogate_loss_particle\u001b[49m\u001b[43m \u001b[49m\u001b[43m=\u001b[49m\u001b[43m \u001b[49m\u001b[38;5;28;43mself\u001b[39;49m\u001b[43m.\u001b[49m\u001b[43m_differentiable_loss_particle\u001b[49m\u001b[43m(\u001b[49m\n\u001b[32m    142\u001b[39m \u001b[43m        \u001b[49m\u001b[43mmodel_trace\u001b[49m\u001b[43m,\u001b[49m\u001b[43m \u001b[49m\u001b[43mguide_trace\u001b[49m\n\u001b[32m    143\u001b[39m \u001b[43m    \u001b[49m\u001b[43m)\u001b[49m\n\u001b[32m    144\u001b[39m \u001b[43m    \u001b[49m\u001b[43mloss\u001b[49m\u001b[43m \u001b[49m\u001b[43m+\u001b[49m\u001b[43m=\u001b[49m\u001b[43m \u001b[49m\u001b[43mloss_particle\u001b[49m\u001b[43m \u001b[49m\u001b[43m/\u001b[49m\u001b[43m \u001b[49m\u001b[38;5;28;43mself\u001b[39;49m\u001b[43m.\u001b[49m\u001b[43mnum_particles\u001b[49m\n",
            "\u001b[36mFile \u001b[39m\u001b[32m~/.local/lib/python3.11/site-packages/pyro/infer/elbo.py:237\u001b[39m, in \u001b[36mELBO._get_traces\u001b[39m\u001b[34m(self, model, guide, args, kwargs)\u001b[39m\n\u001b[32m    235\u001b[39m \u001b[38;5;28;01melse\u001b[39;00m:\n\u001b[32m    236\u001b[39m     \u001b[38;5;28;01mfor\u001b[39;00m i \u001b[38;5;129;01min\u001b[39;00m \u001b[38;5;28mrange\u001b[39m(\u001b[38;5;28mself\u001b[39m.num_particles):\n\u001b[32m--> \u001b[39m\u001b[32m237\u001b[39m         \u001b[38;5;28;01myield\u001b[39;00m \u001b[38;5;28;43mself\u001b[39;49m\u001b[43m.\u001b[49m\u001b[43m_get_trace\u001b[49m\u001b[43m(\u001b[49m\u001b[43mmodel\u001b[49m\u001b[43m,\u001b[49m\u001b[43m \u001b[49m\u001b[43mguide\u001b[49m\u001b[43m,\u001b[49m\u001b[43m \u001b[49m\u001b[43margs\u001b[49m\u001b[43m,\u001b[49m\u001b[43m \u001b[49m\u001b[43mkwargs\u001b[49m\u001b[43m)\u001b[49m\n",
            "\u001b[36mFile \u001b[39m\u001b[32m~/.local/lib/python3.11/site-packages/pyro/infer/trace_elbo.py:57\u001b[39m, in \u001b[36mTrace_ELBO._get_trace\u001b[39m\u001b[34m(self, model, guide, args, kwargs)\u001b[39m\n\u001b[32m     52\u001b[39m \u001b[38;5;28;01mdef\u001b[39;00m\u001b[38;5;250m \u001b[39m\u001b[34m_get_trace\u001b[39m(\u001b[38;5;28mself\u001b[39m, model, guide, args, kwargs):\n\u001b[32m     53\u001b[39m \u001b[38;5;250m    \u001b[39m\u001b[33;03m\"\"\"\u001b[39;00m\n\u001b[32m     54\u001b[39m \u001b[33;03m    Returns a single trace from the guide, and the model that is run\u001b[39;00m\n\u001b[32m     55\u001b[39m \u001b[33;03m    against it.\u001b[39;00m\n\u001b[32m     56\u001b[39m \u001b[33;03m    \"\"\"\u001b[39;00m\n\u001b[32m---> \u001b[39m\u001b[32m57\u001b[39m     model_trace, guide_trace = \u001b[43mget_importance_trace\u001b[49m\u001b[43m(\u001b[49m\n\u001b[32m     58\u001b[39m \u001b[43m        \u001b[49m\u001b[33;43m\"\u001b[39;49m\u001b[33;43mflat\u001b[39;49m\u001b[33;43m\"\u001b[39;49m\u001b[43m,\u001b[49m\u001b[43m \u001b[49m\u001b[38;5;28;43mself\u001b[39;49m\u001b[43m.\u001b[49m\u001b[43mmax_plate_nesting\u001b[49m\u001b[43m,\u001b[49m\u001b[43m \u001b[49m\u001b[43mmodel\u001b[49m\u001b[43m,\u001b[49m\u001b[43m \u001b[49m\u001b[43mguide\u001b[49m\u001b[43m,\u001b[49m\u001b[43m \u001b[49m\u001b[43margs\u001b[49m\u001b[43m,\u001b[49m\u001b[43m \u001b[49m\u001b[43mkwargs\u001b[49m\n\u001b[32m     59\u001b[39m \u001b[43m    \u001b[49m\u001b[43m)\u001b[49m\n\u001b[32m     60\u001b[39m     \u001b[38;5;28;01mif\u001b[39;00m is_validation_enabled():\n\u001b[32m     61\u001b[39m         check_if_enumerated(guide_trace)\n",
            "\u001b[36mFile \u001b[39m\u001b[32m~/.local/lib/python3.11/site-packages/pyro/infer/enum.py:60\u001b[39m, in \u001b[36mget_importance_trace\u001b[39m\u001b[34m(graph_type, max_plate_nesting, model, guide, args, kwargs, detach)\u001b[39m\n\u001b[32m     58\u001b[39m     model_trace, guide_trace = unwrapped_guide.get_traces()\n\u001b[32m     59\u001b[39m \u001b[38;5;28;01melse\u001b[39;00m:\n\u001b[32m---> \u001b[39m\u001b[32m60\u001b[39m     guide_trace = \u001b[43mpoutine\u001b[49m\u001b[43m.\u001b[49m\u001b[43mtrace\u001b[49m\u001b[43m(\u001b[49m\u001b[43mguide\u001b[49m\u001b[43m,\u001b[49m\u001b[43m \u001b[49m\u001b[43mgraph_type\u001b[49m\u001b[43m=\u001b[49m\u001b[43mgraph_type\u001b[49m\u001b[43m)\u001b[49m\u001b[43m.\u001b[49m\u001b[43mget_trace\u001b[49m\u001b[43m(\u001b[49m\n\u001b[32m     61\u001b[39m \u001b[43m        \u001b[49m\u001b[43m*\u001b[49m\u001b[43margs\u001b[49m\u001b[43m,\u001b[49m\u001b[43m \u001b[49m\u001b[43m*\u001b[49m\u001b[43m*\u001b[49m\u001b[43mkwargs\u001b[49m\n\u001b[32m     62\u001b[39m \u001b[43m    \u001b[49m\u001b[43m)\u001b[49m\n\u001b[32m     63\u001b[39m     \u001b[38;5;28;01mif\u001b[39;00m detach:\n\u001b[32m     64\u001b[39m         guide_trace.detach_()\n",
            "\u001b[36mFile \u001b[39m\u001b[32m~/.local/lib/python3.11/site-packages/pyro/poutine/trace_messenger.py:216\u001b[39m, in \u001b[36mTraceHandler.get_trace\u001b[39m\u001b[34m(self, *args, **kwargs)\u001b[39m\n\u001b[32m    208\u001b[39m \u001b[38;5;28;01mdef\u001b[39;00m\u001b[38;5;250m \u001b[39m\u001b[34mget_trace\u001b[39m(\u001b[38;5;28mself\u001b[39m, *args, **kwargs) -> Trace:\n\u001b[32m    209\u001b[39m \u001b[38;5;250m    \u001b[39m\u001b[33;03m\"\"\"\u001b[39;00m\n\u001b[32m    210\u001b[39m \u001b[33;03m    :returns: data structure\u001b[39;00m\n\u001b[32m    211\u001b[39m \u001b[33;03m    :rtype: pyro.poutine.Trace\u001b[39;00m\n\u001b[32m   (...)\u001b[39m\u001b[32m    214\u001b[39m \u001b[33;03m    Calls this poutine and returns its trace instead of the function's return value.\u001b[39;00m\n\u001b[32m    215\u001b[39m \u001b[33;03m    \"\"\"\u001b[39;00m\n\u001b[32m--> \u001b[39m\u001b[32m216\u001b[39m     \u001b[38;5;28;43mself\u001b[39;49m\u001b[43m(\u001b[49m\u001b[43m*\u001b[49m\u001b[43margs\u001b[49m\u001b[43m,\u001b[49m\u001b[43m \u001b[49m\u001b[43m*\u001b[49m\u001b[43m*\u001b[49m\u001b[43mkwargs\u001b[49m\u001b[43m)\u001b[49m\n\u001b[32m    217\u001b[39m     \u001b[38;5;28;01mreturn\u001b[39;00m \u001b[38;5;28mself\u001b[39m.msngr.get_trace()\n",
            "\u001b[36mFile \u001b[39m\u001b[32m~/.local/lib/python3.11/site-packages/pyro/poutine/trace_messenger.py:198\u001b[39m, in \u001b[36mTraceHandler.__call__\u001b[39m\u001b[34m(self, *args, **kwargs)\u001b[39m\n\u001b[32m    196\u001b[39m         exc = exc_type(\u001b[33m\"\u001b[39m\u001b[38;5;132;01m{}\u001b[39;00m\u001b[38;5;130;01m\\n\u001b[39;00m\u001b[38;5;132;01m{}\u001b[39;00m\u001b[33m\"\u001b[39m.format(exc_value, shapes))\n\u001b[32m    197\u001b[39m         exc = exc.with_traceback(traceback)\n\u001b[32m--> \u001b[39m\u001b[32m198\u001b[39m         \u001b[38;5;28;01mraise\u001b[39;00m exc \u001b[38;5;28;01mfrom\u001b[39;00m\u001b[38;5;250m \u001b[39m\u001b[34;01me\u001b[39;00m\n\u001b[32m    199\u001b[39m     \u001b[38;5;28mself\u001b[39m.msngr.trace.add_node(\n\u001b[32m    200\u001b[39m         \u001b[33m\"\u001b[39m\u001b[33m_RETURN\u001b[39m\u001b[33m\"\u001b[39m, name=\u001b[33m\"\u001b[39m\u001b[33m_RETURN\u001b[39m\u001b[33m\"\u001b[39m, \u001b[38;5;28mtype\u001b[39m=\u001b[33m\"\u001b[39m\u001b[33mreturn\u001b[39m\u001b[33m\"\u001b[39m, value=ret\n\u001b[32m    201\u001b[39m     )\n\u001b[32m    202\u001b[39m \u001b[38;5;28;01mreturn\u001b[39;00m ret\n",
            "\u001b[36mFile \u001b[39m\u001b[32m~/.local/lib/python3.11/site-packages/pyro/poutine/trace_messenger.py:191\u001b[39m, in \u001b[36mTraceHandler.__call__\u001b[39m\u001b[34m(self, *args, **kwargs)\u001b[39m\n\u001b[32m    187\u001b[39m \u001b[38;5;28mself\u001b[39m.msngr.trace.add_node(\n\u001b[32m    188\u001b[39m     \u001b[33m\"\u001b[39m\u001b[33m_INPUT\u001b[39m\u001b[33m\"\u001b[39m, name=\u001b[33m\"\u001b[39m\u001b[33m_INPUT\u001b[39m\u001b[33m\"\u001b[39m, \u001b[38;5;28mtype\u001b[39m=\u001b[33m\"\u001b[39m\u001b[33margs\u001b[39m\u001b[33m\"\u001b[39m, args=args, kwargs=kwargs\n\u001b[32m    189\u001b[39m )\n\u001b[32m    190\u001b[39m \u001b[38;5;28;01mtry\u001b[39;00m:\n\u001b[32m--> \u001b[39m\u001b[32m191\u001b[39m     ret = \u001b[38;5;28;43mself\u001b[39;49m\u001b[43m.\u001b[49m\u001b[43mfn\u001b[49m\u001b[43m(\u001b[49m\u001b[43m*\u001b[49m\u001b[43margs\u001b[49m\u001b[43m,\u001b[49m\u001b[43m \u001b[49m\u001b[43m*\u001b[49m\u001b[43m*\u001b[49m\u001b[43mkwargs\u001b[49m\u001b[43m)\u001b[49m\n\u001b[32m    192\u001b[39m \u001b[38;5;28;01mexcept\u001b[39;00m (\u001b[38;5;167;01mValueError\u001b[39;00m, \u001b[38;5;167;01mRuntimeError\u001b[39;00m) \u001b[38;5;28;01mas\u001b[39;00m e:\n\u001b[32m    193\u001b[39m     exc_type, exc_value, traceback = sys.exc_info()\n",
            "\u001b[36mCell\u001b[39m\u001b[36m \u001b[39m\u001b[32mIn[211]\u001b[39m\u001b[32m, line 55\u001b[39m, in \u001b[36mBayesianNN.guide\u001b[39m\u001b[34m(self, X, y)\u001b[39m\n\u001b[32m     53\u001b[39m w1_loc = pyro.param(\u001b[33m\"\u001b[39m\u001b[33mw1_loc\u001b[39m\u001b[33m\"\u001b[39m, torch.randn(\u001b[38;5;28mself\u001b[39m.input_dim, \u001b[38;5;28mself\u001b[39m.hidden_dim))\n\u001b[32m     54\u001b[39m w1_scale = pyro.param(\u001b[33m\"\u001b[39m\u001b[33mw1_scale\u001b[39m\u001b[33m\"\u001b[39m, torch.ones(\u001b[38;5;28mself\u001b[39m.input_dim, \u001b[38;5;28mself\u001b[39m.hidden_dim), constraint=dist.constraints.positive)\n\u001b[32m---> \u001b[39m\u001b[32m55\u001b[39m \u001b[43mpyro\u001b[49m\u001b[43m.\u001b[49m\u001b[43msample\u001b[49m\u001b[43m(\u001b[49m\u001b[33;43m\"\u001b[39;49m\u001b[33;43mw1\u001b[39;49m\u001b[33;43m\"\u001b[39;49m\u001b[43m,\u001b[49m\u001b[43m \u001b[49m\u001b[43mdist\u001b[49m\u001b[43m.\u001b[49m\u001b[43mNormal\u001b[49m\u001b[43m(\u001b[49m\u001b[43mw1_loc\u001b[49m\u001b[43m,\u001b[49m\u001b[43m \u001b[49m\u001b[43mw1_scale\u001b[49m\u001b[43m)\u001b[49m\u001b[43m)\u001b[49m\n\u001b[32m     57\u001b[39m b1_loc = pyro.param(\u001b[33m\"\u001b[39m\u001b[33mb1_loc\u001b[39m\u001b[33m\"\u001b[39m, torch.zeros(\u001b[38;5;28mself\u001b[39m.hidden_dim))\n\u001b[32m     58\u001b[39m b1_scale = pyro.param(\u001b[33m\"\u001b[39m\u001b[33mb1_scale\u001b[39m\u001b[33m\"\u001b[39m, torch.ones(\u001b[38;5;28mself\u001b[39m.hidden_dim), constraint=dist.constraints.positive)\n",
            "\u001b[36mFile \u001b[39m\u001b[32m~/.local/lib/python3.11/site-packages/pyro/primitives.py:189\u001b[39m, in \u001b[36msample\u001b[39m\u001b[34m(name, fn, obs, obs_mask, infer, *args, **kwargs)\u001b[39m\n\u001b[32m    172\u001b[39m msg = Message(\n\u001b[32m    173\u001b[39m     \u001b[38;5;28mtype\u001b[39m=\u001b[33m\"\u001b[39m\u001b[33msample\u001b[39m\u001b[33m\"\u001b[39m,\n\u001b[32m    174\u001b[39m     name=name,\n\u001b[32m   (...)\u001b[39m\u001b[32m    186\u001b[39m     continuation=\u001b[38;5;28;01mNone\u001b[39;00m,\n\u001b[32m    187\u001b[39m )\n\u001b[32m    188\u001b[39m \u001b[38;5;66;03m# apply the stack and return its return value\u001b[39;00m\n\u001b[32m--> \u001b[39m\u001b[32m189\u001b[39m \u001b[43mapply_stack\u001b[49m\u001b[43m(\u001b[49m\u001b[43mmsg\u001b[49m\u001b[43m)\u001b[49m\n\u001b[32m    190\u001b[39m \u001b[38;5;28;01massert\u001b[39;00m msg[\u001b[33m\"\u001b[39m\u001b[33mvalue\u001b[39m\u001b[33m\"\u001b[39m] \u001b[38;5;129;01mis\u001b[39;00m \u001b[38;5;129;01mnot\u001b[39;00m \u001b[38;5;28;01mNone\u001b[39;00m  \u001b[38;5;66;03m# type narrowing guaranteed by apply_stack\u001b[39;00m\n\u001b[32m    191\u001b[39m \u001b[38;5;28;01mreturn\u001b[39;00m msg[\u001b[33m\"\u001b[39m\u001b[33mvalue\u001b[39m\u001b[33m\"\u001b[39m]\n",
            "\u001b[36mFile \u001b[39m\u001b[32m~/.local/lib/python3.11/site-packages/pyro/poutine/runtime.py:378\u001b[39m, in \u001b[36mapply_stack\u001b[39m\u001b[34m(initial_msg)\u001b[39m\n\u001b[32m    375\u001b[39m \u001b[38;5;28;01mfor\u001b[39;00m frame \u001b[38;5;129;01min\u001b[39;00m \u001b[38;5;28mreversed\u001b[39m(stack):\n\u001b[32m    376\u001b[39m     pointer = pointer + \u001b[32m1\u001b[39m\n\u001b[32m--> \u001b[39m\u001b[32m378\u001b[39m     \u001b[43mframe\u001b[49m\u001b[43m.\u001b[49m\u001b[43m_process_message\u001b[49m\u001b[43m(\u001b[49m\u001b[43mmsg\u001b[49m\u001b[43m)\u001b[49m\n\u001b[32m    380\u001b[39m     \u001b[38;5;28;01mif\u001b[39;00m msg[\u001b[33m\"\u001b[39m\u001b[33mstop\u001b[39m\u001b[33m\"\u001b[39m]:\n\u001b[32m    381\u001b[39m         \u001b[38;5;28;01mbreak\u001b[39;00m\n",
            "\u001b[36mFile \u001b[39m\u001b[32m~/.local/lib/python3.11/site-packages/pyro/poutine/plate_messenger.py:25\u001b[39m, in \u001b[36mPlateMessenger._process_message\u001b[39m\u001b[34m(self, msg)\u001b[39m\n\u001b[32m     23\u001b[39m \u001b[38;5;28;01mdef\u001b[39;00m\u001b[38;5;250m \u001b[39m\u001b[34m_process_message\u001b[39m(\u001b[38;5;28mself\u001b[39m, msg: \u001b[33m\"\u001b[39m\u001b[33mMessage\u001b[39m\u001b[33m\"\u001b[39m) -> \u001b[38;5;28;01mNone\u001b[39;00m:\n\u001b[32m     24\u001b[39m     \u001b[38;5;28msuper\u001b[39m()._process_message(msg)\n\u001b[32m---> \u001b[39m\u001b[32m25\u001b[39m     \u001b[43mBroadcastMessenger\u001b[49m\u001b[43m.\u001b[49m\u001b[43m_pyro_sample\u001b[49m\u001b[43m(\u001b[49m\u001b[43mmsg\u001b[49m\u001b[43m)\u001b[49m\n",
            "\u001b[36mFile \u001b[39m\u001b[32m/usr/local/lib/python3.11/contextlib.py:81\u001b[39m, in \u001b[36mContextDecorator.__call__.<locals>.inner\u001b[39m\u001b[34m(*args, **kwds)\u001b[39m\n\u001b[32m     78\u001b[39m \u001b[38;5;129m@wraps\u001b[39m(func)\n\u001b[32m     79\u001b[39m \u001b[38;5;28;01mdef\u001b[39;00m\u001b[38;5;250m \u001b[39m\u001b[34minner\u001b[39m(*args, **kwds):\n\u001b[32m     80\u001b[39m     \u001b[38;5;28;01mwith\u001b[39;00m \u001b[38;5;28mself\u001b[39m._recreate_cm():\n\u001b[32m---> \u001b[39m\u001b[32m81\u001b[39m         \u001b[38;5;28;01mreturn\u001b[39;00m \u001b[43mfunc\u001b[49m\u001b[43m(\u001b[49m\u001b[43m*\u001b[49m\u001b[43margs\u001b[49m\u001b[43m,\u001b[49m\u001b[43m \u001b[49m\u001b[43m*\u001b[49m\u001b[43m*\u001b[49m\u001b[43mkwds\u001b[49m\u001b[43m)\u001b[49m\n",
            "\u001b[36mFile \u001b[39m\u001b[32m~/.local/lib/python3.11/site-packages/pyro/poutine/broadcast_messenger.py:74\u001b[39m, in \u001b[36mBroadcastMessenger._pyro_sample\u001b[39m\u001b[34m(msg)\u001b[39m\n\u001b[32m     69\u001b[39m     target_batch_shape = prefix_batch_shape + target_batch_shape\n\u001b[32m     70\u001b[39m     \u001b[38;5;28;01mif\u001b[39;00m (\n\u001b[32m     71\u001b[39m         target_batch_shape[f.dim] \u001b[38;5;129;01mis\u001b[39;00m \u001b[38;5;129;01mnot\u001b[39;00m \u001b[38;5;28;01mNone\u001b[39;00m\n\u001b[32m     72\u001b[39m         \u001b[38;5;129;01mand\u001b[39;00m target_batch_shape[f.dim] != f.size\n\u001b[32m     73\u001b[39m     ):\n\u001b[32m---> \u001b[39m\u001b[32m74\u001b[39m         \u001b[38;5;28;01mraise\u001b[39;00m \u001b[38;5;167;01mValueError\u001b[39;00m(\n\u001b[32m     75\u001b[39m             \u001b[33m\"\u001b[39m\u001b[33mShape mismatch inside plate(\u001b[39m\u001b[33m'\u001b[39m\u001b[38;5;132;01m{}\u001b[39;00m\u001b[33m'\u001b[39m\u001b[33m) at site \u001b[39m\u001b[38;5;132;01m{}\u001b[39;00m\u001b[33m dim \u001b[39m\u001b[38;5;132;01m{}\u001b[39;00m\u001b[33m, \u001b[39m\u001b[38;5;132;01m{}\u001b[39;00m\u001b[33m vs \u001b[39m\u001b[38;5;132;01m{}\u001b[39;00m\u001b[33m\"\u001b[39m.format(\n\u001b[32m     76\u001b[39m                 f.name,\n\u001b[32m     77\u001b[39m                 msg[\u001b[33m\"\u001b[39m\u001b[33mname\u001b[39m\u001b[33m\"\u001b[39m],\n\u001b[32m     78\u001b[39m                 f.dim,\n\u001b[32m     79\u001b[39m                 f.size,\n\u001b[32m     80\u001b[39m                 target_batch_shape[f.dim],\n\u001b[32m     81\u001b[39m             )\n\u001b[32m     82\u001b[39m         )\n\u001b[32m     83\u001b[39m     target_batch_shape[f.dim] = f.size\n\u001b[32m     84\u001b[39m \u001b[38;5;66;03m# Starting from the right, if expected size is None at an index,\u001b[39;00m\n\u001b[32m     85\u001b[39m \u001b[38;5;66;03m# set it to the actual size if it exists, else 1.\u001b[39;00m\n",
            "\u001b[31mValueError\u001b[39m: Shape mismatch inside plate('batch') at site w1 dim -1, 455 vs 16\nTrace Shapes:       \n Param Sites:       \n       w1_loc  30 16\n     w1_scale  30 16\nSample Sites:       \n   batch dist      |\n        value 455  |"
          ]
        }
      ],
      "source": []
    },
    {
      "cell_type": "code",
      "execution_count": null,
      "metadata": {},
      "outputs": [],
      "source": []
    }
  ],
  "metadata": {
    "colab": {
      "provenance": []
    },
    "kernelspec": {
      "display_name": "Python 3",
      "name": "python3"
    },
    "language_info": {
      "codemirror_mode": {
        "name": "ipython",
        "version": 3
      },
      "file_extension": ".py",
      "mimetype": "text/x-python",
      "name": "python",
      "nbconvert_exporter": "python",
      "pygments_lexer": "ipython3",
      "version": "3.11.9"
    }
  },
  "nbformat": 4,
  "nbformat_minor": 0
}
